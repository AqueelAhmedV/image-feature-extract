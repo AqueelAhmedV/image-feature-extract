{
 "cells": [
  {
   "cell_type": "code",
   "execution_count": 1,
   "metadata": {},
   "outputs": [],
   "source": [
    "import cv2\n",
    "import numpy as np\n",
    "import easyocr\n",
    "from PIL import Image"
   ]
  },
  {
   "cell_type": "code",
   "execution_count": 10,
   "metadata": {},
   "outputs": [],
   "source": [
    "import paddle"
   ]
  },
  {
   "cell_type": "code",
   "execution_count": 2,
   "metadata": {},
   "outputs": [],
   "source": [
    "def extract_text(image_path):\n",
    "    try:\n",
    "        # Initialize EasyOCR reader\n",
    "        reader = easyocr.Reader(['en'])\n",
    "        \n",
    "        # if use_preprocessing:\n",
    "        #     # Preprocess the image\n",
    "        #     processed_image = preprocess_image(image_path)\n",
    "        #     # Perform OCR on the processed image\n",
    "        #     result = reader.readtext(processed_image)\n",
    "        # else:\n",
    "            # Perform OCR on the original image\n",
    "        result = reader.readtext(image_path)\n",
    "        \n",
    "        # Extract and join the text\n",
    "        extracted_text = ' '.join([text for _, text, _ in result])\n",
    "        return extracted_text\n",
    "    except Exception as e:\n",
    "        print(f\"An error occurred: {str(e)}\")\n",
    "        return \"\"\n",
    "    "
   ]
  },
  {
   "cell_type": "code",
   "execution_count": 5,
   "metadata": {},
   "outputs": [],
   "source": [
    "def extract_text2(image_path):\n",
    "    try:\n",
    "        # Initialize PaddleOCR\n",
    "        ocr = Paddle(use_angle_cls=True, lang='en')\n",
    "        \n",
    "        # Perform OCR on the image\n",
    "        result = ocr.ocr(image_path, cls=True)\n",
    "        \n",
    "        # Extract and join the text\n",
    "        extracted_text = ' '.join([line[1][0] for line in result[0]])\n",
    "        return extracted_text\n",
    "    except Exception as e:\n",
    "        print(f\"An error occurred: {str(e)}\")\n",
    "        return \"\""
   ]
  },
  {
   "cell_type": "code",
   "execution_count": 19,
   "metadata": {},
   "outputs": [
    {
     "name": "stdout",
     "output_type": "stream",
     "text": [
      "Extracting text from original image:\n",
      "[2024/09/14 16:53:14] ppocr DEBUG: Namespace(help='==SUPPRESS==', use_gpu=False, use_xpu=False, use_npu=False, use_mlu=False, ir_optim=True, use_tensorrt=False, min_subgraph_size=15, precision='fp32', gpu_mem=500, gpu_id=0, image_dir=None, page_num=0, det_algorithm='DB', det_model_dir='C:\\\\Users\\\\devad/.paddleocr/whl\\\\det\\\\en\\\\en_PP-OCRv3_det_infer', det_limit_side_len=960, det_limit_type='max', det_box_type='quad', det_db_thresh=0.3, det_db_box_thresh=0.6, det_db_unclip_ratio=1.5, max_batch_size=10, use_dilation=False, det_db_score_mode='fast', det_east_score_thresh=0.8, det_east_cover_thresh=0.1, det_east_nms_thresh=0.2, det_sast_score_thresh=0.5, det_sast_nms_thresh=0.2, det_pse_thresh=0, det_pse_box_thresh=0.85, det_pse_min_area=16, det_pse_scale=1, scales=[8, 16, 32], alpha=1.0, beta=1.0, fourier_degree=5, rec_algorithm='SVTR_LCNet', rec_model_dir='C:\\\\Users\\\\devad/.paddleocr/whl\\\\rec\\\\en\\\\en_PP-OCRv4_rec_infer', rec_image_inverse=True, rec_image_shape='3, 48, 320', rec_batch_num=6, max_text_length=25, rec_char_dict_path='d:\\\\Projects\\\\amazonMl\\\\amex\\\\student_resource 3\\\\venv\\\\lib\\\\site-packages\\\\paddleocr\\\\ppocr\\\\utils\\\\en_dict.txt', use_space_char=True, vis_font_path='./doc/fonts/simfang.ttf', drop_score=0.5, e2e_algorithm='PGNet', e2e_model_dir=None, e2e_limit_side_len=768, e2e_limit_type='max', e2e_pgnet_score_thresh=0.5, e2e_char_dict_path='./ppocr/utils/ic15_dict.txt', e2e_pgnet_valid_set='totaltext', e2e_pgnet_mode='fast', use_angle_cls=True, cls_model_dir='C:\\\\Users\\\\devad/.paddleocr/whl\\\\cls\\\\ch_ppocr_mobile_v2.0_cls_infer', cls_image_shape='3, 48, 192', label_list=['0', '180'], cls_batch_num=6, cls_thresh=0.9, enable_mkldnn=False, cpu_threads=10, use_pdserving=False, warmup=False, sr_model_dir=None, sr_image_shape='3, 32, 128', sr_batch_num=1, draw_img_save_dir='./inference_results', save_crop_res=False, crop_res_save_dir='./output', use_mp=False, total_process_num=1, process_id=0, benchmark=False, save_log_path='./log_output/', show_log=True, use_onnx=False, return_word_box=False, output='./output', table_max_len=488, table_algorithm='TableAttn', table_model_dir=None, merge_no_span_structure=True, table_char_dict_path=None, layout_model_dir=None, layout_dict_path=None, layout_score_threshold=0.5, layout_nms_threshold=0.5, kie_algorithm='LayoutXLM', ser_model_dir=None, re_model_dir=None, use_visual_backbone=True, ser_dict_path='../train_data/XFUND/class_list_xfun.txt', ocr_order_method=None, mode='structure', image_orientation=False, layout=True, table=True, ocr=True, recovery=False, use_pdf2docx_api=False, invert=False, binarize=False, alphacolor=(255, 255, 255), lang='en', det=True, rec=True, type='ocr', savefile=False, ocr_version='PP-OCRv4', structure_version='PP-StructureV2')\n",
      "[2024/09/14 16:53:17] ppocr DEBUG: dt_boxes num : 8, elapsed : 0.09754228591918945\n",
      "[2024/09/14 16:53:17] ppocr DEBUG: cls num  : 8, elapsed : 0.06707429885864258\n",
      "[2024/09/14 16:53:18] ppocr DEBUG: rec_res num  : 8, elapsed : 0.8652613162994385\n",
      "ModelBL-27B1 Li-Polymerbattery 1ICP4/60/75 3.8V 2700mAh 10.26Wh Limited charge voltage4.35V Ningbo Veken Sattery Co.,LTD S/N:206090180172465452\n"
     ]
    }
   ],
   "source": [
    "image_path = '../voltage_images/31QHhZJuLIL.jpg'\n",
    "\n",
    "print(\"Extracting text from original image:\")\n",
    "original_text = extract_text2(image_path)\n",
    "print(original_text)\n",
    "\n",
    "# print(\"\\nExtracting text from preprocessed image:\")\n",
    "# preprocessed_text = extract_text(image_path, use_preprocessing=True)\n",
    "# print(preprocessed_text)"
   ]
  },
  {
   "cell_type": "code",
   "execution_count": 5,
   "metadata": {},
   "outputs": [],
   "source": [
    "import requests\n",
    "import json"
   ]
  },
  {
   "cell_type": "code",
   "execution_count": 8,
   "metadata": {},
   "outputs": [],
   "source": [
    "def query_ollama(prompt, model='llama3.1'):\n",
    "    url = \"http://127.0.0.1:11434/api/generate\"\n",
    "    payload = {\n",
    "        \"model\": model,\n",
    "        \"prompt\": prompt\n",
    "    }\n",
    "    print(f\"Sending request to: {url}\")\n",
    "    print(f\"Payload: {payload}\")\n",
    "    response = requests.post(url, json=payload)\n",
    "    print(f\"Response status code: {response.status_code}\")\n",
    "    print(f\"Response content: {response.text}\")\n",
    "    response_json = response.json()\n",
    "    return response_json.get('response', '')"
   ]
  },
  {
   "cell_type": "code",
   "execution_count": 9,
   "metadata": {},
   "outputs": [
    {
     "name": "stdout",
     "output_type": "stream",
     "text": [
      "Sending request to: http://localhost:11434/api/generate\n",
      "Payload: {'model': 'llama3.1', 'prompt': 'Extract the voltage value from the text: Professional tools Blade Diameter. 305mm Rated Voltage: 220V Frequency: SOHZ Rated Input Power 2100W No Load Speed: 3700rpm Max Cutting Capacity 90H102x W330mm Max Cutting Capacity 60H60xW160 Max Cutting Capacity 45H60xW220mm'}\n",
      "Response status code: 500\n",
      "Response content: {\"error\":\"llama runner process has terminated: signal: killed\"}\n",
      "\n"
     ]
    }
   ],
   "source": [
    "prompt = f\"Extract the voltage value from the text: {original_text}\"\n",
    "# print(prompt)\n",
    "response = query_ollama(prompt)\n",
    "\n",
    "print(response)"
   ]
  },
  {
   "cell_type": "code",
   "execution_count": 22,
   "metadata": {},
   "outputs": [
    {
     "name": "stdout",
     "output_type": "stream",
     "text": [
      "None\n"
     ]
    }
   ],
   "source": [
    "import torch\n",
    "# print(torch.version.cuda)"
   ]
  }
 ],
 "metadata": {
  "kernelspec": {
   "display_name": "Python 3",
   "language": "python",
   "name": "python3"
  },
  "language_info": {
   "codemirror_mode": {
    "name": "ipython",
    "version": 3
   },
   "file_extension": ".py",
   "mimetype": "text/x-python",
   "name": "python",
   "nbconvert_exporter": "python",
   "pygments_lexer": "ipython3",
   "version": "3.10.5"
  }
 },
 "nbformat": 4,
 "nbformat_minor": 2
}
